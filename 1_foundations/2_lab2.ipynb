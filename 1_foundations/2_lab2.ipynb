{
 "cells": [
  {
   "cell_type": "markdown",
   "metadata": {},
   "source": [
    "## Welcome to the Second Lab - Week 1, Day 3\n",
    "\n",
    "Today we will work with lots of models! This is a way to get comfortable with APIs."
   ]
  },
  {
   "cell_type": "markdown",
   "metadata": {},
   "source": [
    "<table style=\"margin: 0; text-align: left; width:100%\">\n",
    "    <tr>\n",
    "        <td style=\"width: 150px; height: 150px; vertical-align: middle;\">\n",
    "            <img src=\"../assets/stop.png\" width=\"150\" height=\"150\" style=\"display: block;\" />\n",
    "        </td>\n",
    "        <td>\n",
    "            <h2 style=\"color:#ff7800;\">Important point - please read</h2>\n",
    "            <span style=\"color:#ff7800;\">The way I collaborate with you may be different to other courses you've taken. I prefer not to type code while you watch. Rather, I execute Jupyter Labs, like this, and give you an intuition for what's going on. My suggestion is that you carefully execute this yourself, <b>after</b> watching the lecture. Add print statements to understand what's going on, and then come up with your own variations.<br/><br/>If you have time, I'd love it if you submit a PR for changes in the community_contributions folder - instructions in the resources. Also, if you have a Github account, use this to showcase your variations. Not only is this essential practice, but it demonstrates your skills to others, including perhaps future clients or employers...\n",
    "            </span>\n",
    "        </td>\n",
    "    </tr>\n",
    "</table>"
   ]
  },
  {
   "cell_type": "code",
   "execution_count": 1,
   "metadata": {},
   "outputs": [],
   "source": [
    "# Start with imports - ask ChatGPT to explain any package that you don't know\n",
    "\n",
    "import os\n",
    "import json\n",
    "from dotenv import load_dotenv\n",
    "from openai import OpenAI\n",
    "from anthropic import Anthropic\n",
    "from IPython.display import Markdown, display"
   ]
  },
  {
   "cell_type": "code",
   "execution_count": 2,
   "metadata": {},
   "outputs": [
    {
     "data": {
      "text/plain": [
       "True"
      ]
     },
     "execution_count": 2,
     "metadata": {},
     "output_type": "execute_result"
    }
   ],
   "source": [
    "# Always remember to do this!\n",
    "load_dotenv(override=True)"
   ]
  },
  {
   "cell_type": "code",
   "execution_count": 3,
   "metadata": {},
   "outputs": [
    {
     "name": "stdout",
     "output_type": "stream",
     "text": [
      "OpenRounter API Key exists and begins sk-or-v1\n",
      "Google API Key exists and begins AI\n",
      "Groq API Key exists and begins gsk_\n"
     ]
    }
   ],
   "source": [
    "# Print the key prefixes to help with any debugging\n",
    "\n",
    "openrouter_api_key = os.getenv('OPENROUTER_API_KEY')\n",
    "# openai_api_key = os.getenv('OPENAI_API_KEY')\n",
    "# anthropic_api_key = os.getenv('ANTHROPIC_API_KEY')\n",
    "google_api_key = os.getenv('GOOGLE_API_KEY')\n",
    "# deepseek_api_key = os.getenv('DEEPSEEK_API_KEY')\n",
    "groq_api_key = os.getenv('GROQ_API_KEY')\n",
    "\n",
    "\n",
    "if openrouter_api_key:\n",
    "    print(f\"OpenRounter API Key exists and begins {openrouter_api_key[:8]}\")\n",
    "else:\n",
    "    print(\"OpenRounter API Key not set - please head to the troubleshooting guide in the setup folder\")\n",
    "\"\"\"\n",
    "if openai_api_key:\n",
    "    print(f\"OpenAI API Key exists and begins {openai_api_key[:8]}\")\n",
    "else:\n",
    "    print(\"OpenAI API Key not set\")\n",
    "\"\"\"\n",
    "\"\"\"    \n",
    "if anthropic_api_key:\n",
    "    print(f\"Anthropic API Key exists and begins {anthropic_api_key[:7]}\")\n",
    "else:\n",
    "    print(\"Anthropic API Key not set (and this is optional)\")\n",
    "\"\"\"\n",
    "if google_api_key:\n",
    "    print(f\"Google API Key exists and begins {google_api_key[:2]}\")\n",
    "else:\n",
    "    print(\"Google API Key not set (and this is optional)\")\n",
    "\n",
    "\"\"\"\n",
    "if deepseek_api_key:\n",
    "    print(f\"DeepSeek API Key exists and begins {deepseek_api_key[:3]}\")\n",
    "else:\n",
    "    print(\"DeepSeek API Key not set (and this is optional)\")\n",
    "\"\"\"\n",
    "if groq_api_key:\n",
    "    print(f\"Groq API Key exists and begins {groq_api_key[:4]}\")\n",
    "else:\n",
    "    print(\"Groq API Key not set (and this is optional)\")"
   ]
  },
  {
   "cell_type": "code",
   "execution_count": 4,
   "metadata": {},
   "outputs": [],
   "source": [
    "request = \"Please come up with a challenging, nuanced question that I can ask a number of LLMs to evaluate their intelligence. \"\n",
    "request += \"Answer only with the question, no explanation.\"\n",
    "messages = [{\"role\": \"user\", \"content\": request}]"
   ]
  },
  {
   "cell_type": "code",
   "execution_count": 6,
   "metadata": {},
   "outputs": [
    {
     "data": {
      "text/plain": [
       "[{'role': 'user',\n",
       "  'content': 'Please come up with a challenging, nuanced question that I can ask a number of LLMs to evaluate their intelligence. Answer only with the question, no explanation.'}]"
      ]
     },
     "execution_count": 6,
     "metadata": {},
     "output_type": "execute_result"
    }
   ],
   "source": [
    "messages"
   ]
  },
  {
   "cell_type": "code",
   "execution_count": 7,
   "metadata": {},
   "outputs": [
    {
     "name": "stdout",
     "output_type": "stream",
     "text": [
      "If a society prioritizes individual freedom over collective security, what are the potential philosophical, ethical, and practical implications of that choice on governance and social cohesion?\n"
     ]
    }
   ],
   "source": [
    "# openai = OpenAI()\n",
    "\n",
    "openai = OpenAI(\n",
    "    api_key=openrouter_api_key,\n",
    "    base_url=\"https://openrouter.ai/api/v1\"\n",
    ")\n",
    "\n",
    "\n",
    "response = openai.chat.completions.create(\n",
    "    model=\"openai/gpt-4o-mini\",  # model=\"openai/gpt-4.1-nano\",\n",
    "    messages=messages,\n",
    ")\n",
    "question = response.choices[0].message.content\n",
    "print(question)\n"
   ]
  },
  {
   "cell_type": "code",
   "execution_count": 10,
   "metadata": {},
   "outputs": [
    {
     "data": {
      "text/plain": [
       "ChatCompletion(id='gen-1749385613-HJBm5NhoaaQ2YW4W4Zh3', choices=[Choice(finish_reason='stop', index=0, logprobs=None, message=ChatCompletionMessage(content='If a society prioritizes individual freedom over collective security, what are the potential philosophical, ethical, and practical implications of that choice on governance and social cohesion?', refusal=None, role='assistant', annotations=None, audio=None, function_call=None, tool_calls=None, reasoning=None), native_finish_reason='stop')], created=1749385613, model='openai/gpt-4o-mini', object='chat.completion', service_tier=None, system_fingerprint='fp_34a54ae93c', usage=CompletionUsage(completion_tokens=31, prompt_tokens=40, total_tokens=71, completion_tokens_details=CompletionTokensDetails(accepted_prediction_tokens=None, audio_tokens=None, reasoning_tokens=0, rejected_prediction_tokens=None), prompt_tokens_details=PromptTokensDetails(audio_tokens=None, cached_tokens=0)), provider='OpenAI')"
      ]
     },
     "execution_count": 10,
     "metadata": {},
     "output_type": "execute_result"
    }
   ],
   "source": [
    "response"
   ]
  },
  {
   "cell_type": "code",
   "execution_count": 14,
   "metadata": {},
   "outputs": [],
   "source": [
    "competitors = []\n",
    "answers = []\n",
    "messages = [{\"role\": \"user\", \"content\": question}]\n"
   ]
  },
  {
   "cell_type": "code",
   "execution_count": 15,
   "metadata": {},
   "outputs": [
    {
     "data": {
      "text/markdown": [
       "Prioritizing individual freedom over collective security can significantly shape a society's philosophical, ethical, and practical landscape. Here are some potential implications of that choice on governance and social cohesion:\n",
       "\n",
       "### Philosophical Implications:\n",
       "\n",
       "1. **Libertarianism vs. Communitarianism**: The emphasis on individual freedom aligns with libertarian philosophical tenets, promoting autonomy, personal responsibility, and minimal interference by the state. In contrast, communitarian philosophy argues for the importance of community values and ethical obligations to others, which may be compromised in a society that prioritizes individual freedom.\n",
       "\n",
       "2. **Moral Responsibility**: A focus on individual freedom may cultivate a sense of moral autonomy, where individuals are seen as solely responsible for their choices. This can raise questions about social justice, particularly in how societal structures and inequalities may impact individual freedom.\n",
       "\n",
       "3. **Defining the Good Life**: The prioritization of individual freedom invites a diverse range of definitions of the 'good life,' potentially leading to philosophical pluralism. However, it can also challenge the idea of a shared moral framework that guides collective action and societal norms.\n",
       "\n",
       "### Ethical Implications:\n",
       "\n",
       "1. **Social Contracts**: The 'social contract' theory may be reinterpreted, where the duties of citizens to one another are viewed as secondary to individual rights. This can lead to ethical dilemmas regarding obligation to the community, especially in issues like resource distribution and public health.\n",
       "\n",
       "2. **Rights vs. Responsibilities**: Emphasizing individual rights can overshadow the responsibilities that individuals have towards their communities, potentially leading to ethical egoism where self-interest guides behavior over collective well-being.\n",
       "\n",
       "3. **Justification of Harm**: A society focused on individual freedoms might justify actions that harm others if those actions are framed as expressions of personal liberty. This can lead to ethical conflicts, particularly regarding issues such as hate speech, environmental degradation, and economic inequality.\n",
       "\n",
       "### Practical Implications:\n",
       "\n",
       "1. **Governance and Regulation**: A government that prioritizes individual freedom may implement minimal regulations, potentially leading to issues such as insufficient protections for marginalized groups, economic exploitation, or inadequate responses to public health crises.\n",
       "\n",
       "2. **Security vs. Freedom Trade-off**: The balance between security and freedom can become contentious. While individual freedoms are often seen as essential, neglecting collective security can lead to situations where societal safety is compromised, affecting overall well-being.\n",
       "\n",
       "3. **Social Cohesion and Fragmentation**: Prioritizing individual freedom can lead to increased personal autonomy but may also result in social fragmentation, where individuals become isolated in their pursuits. This fragmentation can weaken communal ties and reduce collective civic engagement.\n",
       "\n",
       "4. **Conflict and Discontent**: A lack of emphasis on collective security may create an environment where social grievances go unaddressed, leading to conflict among individuals and groups as they advocate for their interests at the expense of others.\n",
       "\n",
       "### Conclusion:\n",
       "\n",
       "The choice to prioritize individual freedom over collective security presents a complex interplay of philosophical, ethical, and practical considerations. While it can foster innovation, personal expression, and self-determination, it can also challenge social cohesion, ethical commitments, and collective welfare. Societies navigating this balance must remain vigilant to ensure that individual freedoms do not come at the cost of the community's health and safety. This requires continual dialogue, ethical reflection, and adaptive governance structures to foster both individual rights and communal responsibilities."
      ],
      "text/plain": [
       "<IPython.core.display.Markdown object>"
      ]
     },
     "metadata": {},
     "output_type": "display_data"
    }
   ],
   "source": [
    "# The API we know well\n",
    "\n",
    "model_name = \"gpt-4o-mini\"\n",
    "\n",
    "response = openai.chat.completions.create(model=model_name, messages=messages)\n",
    "answer = response.choices[0].message.content\n",
    "\n",
    "display(Markdown(answer))\n",
    "competitors.append(model_name)\n",
    "answers.append(answer)"
   ]
  },
  {
   "cell_type": "code",
   "execution_count": null,
   "metadata": {},
   "outputs": [],
   "source": [
    "# Anthropic has a slightly different API, and Max Tokens is required\n",
    "\n",
    "model_name = \"claude-3-7-sonnet-latest\"\n",
    "\n",
    "claude = Anthropic()\n",
    "response = claude.messages.create(model=model_name, messages=messages, max_tokens=1000)\n",
    "answer = response.content[0].text\n",
    "\n",
    "display(Markdown(answer))\n",
    "competitors.append(model_name)\n",
    "answers.append(answer)"
   ]
  },
  {
   "cell_type": "code",
   "execution_count": 16,
   "metadata": {},
   "outputs": [
    {
     "data": {
      "text/markdown": [
       "## Implications of Prioritizing Individual Freedom Over Collective Security:\n",
       "\n",
       "Prioritizing individual freedom over collective security has profound philosophical, ethical, and practical implications on governance and social cohesion. It's a complex balancing act with potential benefits and significant drawbacks.\n",
       "\n",
       "**Philosophical Implications:**\n",
       "\n",
       "* **Emphasis on Individual Rights:** This stance aligns with libertarian and individualist philosophies, emphasizing natural rights (life, liberty, property) and the inherent worth of each individual. The government's primary role is to protect these rights, not to ensure collective safety at the expense of individual autonomy.\n",
       "* **Skepticism towards State Power:**  There is a deep-seated distrust of centralized authority and a belief that the state is often a greater threat to freedom than external dangers.  Power should be decentralized and limited to prevent tyranny.\n",
       "* **Value Pluralism:** This perspective acknowledges and embraces the diversity of values, beliefs, and lifestyles within a society. It rejects the idea that there is a single, correct way to live or that the state should enforce a particular moral code for the sake of collective security.\n",
       "* **Individual Responsibility:**  With greater freedom comes greater responsibility. Individuals are expected to be self-reliant, responsible for their own actions, and accountable for any harm they cause to others.\n",
       "\n",
       "**Ethical Implications:**\n",
       "\n",
       "* **Autonomy vs. Welfare:** The core ethical dilemma is balancing individual autonomy (the right to make one's own choices, even risky ones) with the overall welfare and safety of the community.  \n",
       "* **Utilitarianism vs. Deontology:**  A utilitarian approach might argue that collective security is paramount because it maximizes happiness for the greatest number.  A deontological approach would prioritize individual rights, even if it leads to a less \"efficient\" or \"safe\" society.\n",
       "* **Fairness and Equality:** If freedom is prioritized, it raises questions about how to ensure fairness and equality.  Does prioritizing freedom exacerbate existing inequalities, leaving vulnerable groups more exposed to threats?  How do we ensure that everyone has the resources and opportunities to exercise their freedom responsibly?\n",
       "* **Moral Boundaries:** How do we define the limits of individual freedom when it conflicts with the safety and well-being of others?  For example, does freedom of speech extend to hate speech that incites violence? Does freedom of association include the right to form groups that threaten the security of the state?\n",
       "\n",
       "**Practical Implications on Governance:**\n",
       "\n",
       "* **Limited Government:** The government's role is strictly limited to protecting individual rights, enforcing contracts, and providing essential public goods like national defense.  There is minimal intervention in the economy or personal lives.\n",
       "* **Emphasis on Due Process and Rule of Law:**  Criminal justice systems prioritize due process and the protection of individual rights, even for suspected criminals.  The burden of proof rests on the state to demonstrate guilt beyond a reasonable doubt.\n",
       "* **Decentralization of Power:** Power is dispersed among different levels of government (federal, state, local) and among different branches of government (executive, legislative, judicial) to prevent any single entity from becoming too powerful.\n",
       "* **Strong Protection of Civil Liberties:**  Freedom of speech, freedom of the press, freedom of religion, freedom of assembly, and the right to bear arms are vigorously protected, even when these freedoms are unpopular or controversial.\n",
       "* **Laissez-faire Economics:**  The government plays a minimal role in the economy, allowing individuals and businesses to operate with minimal regulation. This can lead to economic growth but also to greater inequality and economic insecurity.\n",
       "\n",
       "**Practical Implications on Social Cohesion:**\n",
       "\n",
       "* **Potential for Fragmentation:**  Prioritizing individual freedom can lead to a fragmented society, where individuals are less connected to each other and less willing to sacrifice for the common good.  Social trust may decline, and people may become more isolated and self-reliant.\n",
       "* **Increased Social Conflict:**  A society that highly values individual freedom may experience more social conflict as individuals and groups pursue their own interests, even when those interests conflict with others.\n",
       "* **Erosion of Shared Values:**  If there is no shared vision of the common good or no common set of values, it can be difficult to build a sense of community and solidarity.\n",
       "* **Challenges to Collective Action:**  Addressing collective problems, such as climate change, public health crises, or economic inequality, can be more challenging in a society that prioritizes individual freedom over collective action.\n",
       "* **Resilience and Innovation:**  On the other hand, a society that values individual freedom may be more resilient and innovative.  Individuals are free to experiment, take risks, and pursue their own goals, which can lead to new ideas, new technologies, and new solutions to social problems.\n",
       "\n",
       "**In Conclusion:**\n",
       "\n",
       "Choosing to prioritize individual freedom over collective security is a fundamental decision that shapes the character of a society. It can lead to a vibrant, innovative, and prosperous society, but it also carries risks of social fragmentation, inequality, and instability.  Successful implementation requires a careful balance between individual rights and the needs of the community, and a strong commitment to the rule of law, due process, and equal opportunity. It also demands a high degree of civic responsibility and a willingness to engage in constructive dialogue about the challenges facing the society.\n"
      ],
      "text/plain": [
       "<IPython.core.display.Markdown object>"
      ]
     },
     "metadata": {},
     "output_type": "display_data"
    }
   ],
   "source": [
    "gemini = OpenAI(api_key=google_api_key, base_url=\"https://generativelanguage.googleapis.com/v1beta/openai/\")\n",
    "model_name = \"gemini-2.0-flash\"\n",
    "\n",
    "response = gemini.chat.completions.create(model=model_name, messages=messages)\n",
    "answer = response.choices[0].message.content\n",
    "\n",
    "display(Markdown(answer))\n",
    "competitors.append(model_name)\n",
    "answers.append(answer)"
   ]
  },
  {
   "cell_type": "code",
   "execution_count": null,
   "metadata": {},
   "outputs": [],
   "source": [
    "deepseek = OpenAI(api_key=deepseek_api_key, base_url=\"https://api.deepseek.com/v1\")\n",
    "model_name = \"deepseek-chat\"\n",
    "\n",
    "response = deepseek.chat.completions.create(model=model_name, messages=messages)\n",
    "answer = response.choices[0].message.content\n",
    "\n",
    "display(Markdown(answer))\n",
    "competitors.append(model_name)\n",
    "answers.append(answer)"
   ]
  },
  {
   "cell_type": "code",
   "execution_count": 17,
   "metadata": {},
   "outputs": [
    {
     "data": {
      "text/markdown": [
       "If a society prioritizes individual freedom over collective security, it can have significant philosophical, ethical, and practical implications on governance and social cohesion. Here are some potential implications:\n",
       "\n",
       "**Philosophical Implications:**\n",
       "\n",
       "1. **Libertarianism vs. Utilitarianism**: Prioritizing individual freedom may lead to a more libertarian approach, emphasizing individual rights and autonomy, while downplaying the importance of collective well-being and the greater good.\n",
       "2. **Social Contract Theory**: This approach may challenge the social contract theory, which posits that individuals surrender some freedoms in exchange for protection and security provided by the state.\n",
       "3. **Moral Individualism**: The emphasis on individual freedom may promote moral individualism, where individual moral agency and autonomy are valued over collective moral responsibilities.\n",
       "\n",
       "**Ethical Implications:**\n",
       "\n",
       "1. **Inequality and Marginalization**: Prioritizing individual freedom may exacerbate existing social and economic inequalities, as those with more resources and power may be better equipped to exercise their freedoms, while marginalized groups may be left behind.\n",
       "2. **Vulnerability and Exploitation**: The emphasis on individual freedom may lead to increased vulnerability to exploitation, as individuals may be more susceptible to manipulation and coercion without collective protection.\n",
       "3. **Lack of Social Solidarity**: The prioritization of individual freedom may erode social solidarity, as individuals may become more focused on their own interests and less concerned with the well-being of others.\n",
       "\n",
       "**Practical Implications:**\n",
       "\n",
       "1. **Weakened Social Safety Nets**: A society that prioritizes individual freedom may have weaker social safety nets, as the emphasis on personal responsibility may lead to reduced government support for vulnerable populations.\n",
       "2. **Increased Crime and Disorder**: The lack of collective security measures may lead to increased crime and disorder, as individuals may feel more empowered to pursue their interests without regard for the consequences.\n",
       "3. **Decreased Public Health and Safety**: The prioritization of individual freedom may lead to decreased public health and safety measures, as individuals may be more resistant to collective measures such as vaccination programs or environmental regulations.\n",
       "4. **Challenges to Governance**: A society that prioritizes individual freedom may face challenges in governance, as the emphasis on individual autonomy may lead to resistance to authority and decreased cooperation with government initiatives.\n",
       "5. **Social Fragmentation**: The prioritization of individual freedom may lead to social fragmentation, as individuals may become more isolated and less connected to their communities, leading to a breakdown in social cohesion.\n",
       "\n",
       "**Implications for Social Cohesion:**\n",
       "\n",
       "1. **Decreased Trust and Cooperation**: The emphasis on individual freedom may lead to decreased trust and cooperation among individuals, as they may become more focused on their own interests and less willing to work together for the common good.\n",
       "2. **Increased Conflict**: The lack of collective security measures may lead to increased conflict, as individuals may be more likely to pursue their interests through aggressive means.\n",
       "3. **Erosion of Community**: The prioritization of individual freedom may lead to the erosion of community, as individuals may become more disconnected from their surroundings and less invested in the well-being of others.\n",
       "\n",
       "In conclusion, prioritizing individual freedom over collective security can have significant philosophical, ethical, and practical implications for governance and social cohesion. While individual freedom is an important value, it must be balanced with the need for collective security and social cohesion to ensure a stable and prosperous society."
      ],
      "text/plain": [
       "<IPython.core.display.Markdown object>"
      ]
     },
     "metadata": {},
     "output_type": "display_data"
    }
   ],
   "source": [
    "groq = OpenAI(api_key=groq_api_key, base_url=\"https://api.groq.com/openai/v1\")\n",
    "model_name = \"llama-3.3-70b-versatile\"\n",
    "\n",
    "response = groq.chat.completions.create(model=model_name, messages=messages)\n",
    "answer = response.choices[0].message.content\n",
    "\n",
    "display(Markdown(answer))\n",
    "competitors.append(model_name)\n",
    "answers.append(answer)\n"
   ]
  },
  {
   "cell_type": "markdown",
   "metadata": {},
   "source": [
    "## For the next cell, we will use Ollama\n",
    "\n",
    "Ollama runs a local web service that gives an OpenAI compatible endpoint,  \n",
    "and runs models locally using high performance C++ code.\n",
    "\n",
    "If you don't have Ollama, install it here by visiting https://ollama.com then pressing Download and following the instructions.\n",
    "\n",
    "After it's installed, you should be able to visit here: http://localhost:11434 and see the message \"Ollama is running\"\n",
    "\n",
    "You might need to restart Cursor (and maybe reboot). Then open a Terminal (control+\\`) and run `ollama serve`\n",
    "\n",
    "Useful Ollama commands (run these in the terminal, or with an exclamation mark in this notebook):\n",
    "\n",
    "`ollama pull <model_name>` downloads a model locally  \n",
    "`ollama ls` lists all the models you've downloaded  \n",
    "`ollama rm <model_name>` deletes the specified model from your downloads"
   ]
  },
  {
   "cell_type": "markdown",
   "metadata": {},
   "source": [
    "<table style=\"margin: 0; text-align: left; width:100%\">\n",
    "    <tr>\n",
    "        <td style=\"width: 150px; height: 150px; vertical-align: middle;\">\n",
    "            <img src=\"../assets/stop.png\" width=\"150\" height=\"150\" style=\"display: block;\" />\n",
    "        </td>\n",
    "        <td>\n",
    "            <h2 style=\"color:#ff7800;\">Super important - ignore me at your peril!</h2>\n",
    "            <span style=\"color:#ff7800;\">The model called <b>llama3.3</b> is FAR too large for home computers - it's not intended for personal computing and will consume all your resources! Stick with the nicely sized <b>llama3.2</b> or <b>llama3.2:1b</b> and if you want larger, try llama3.1 or smaller variants of Qwen, Gemma, Phi or DeepSeek. See the <A href=\"https://ollama.com/models\">the Ollama models page</a> for a full list of models and sizes.\n",
    "            </span>\n",
    "        </td>\n",
    "    </tr>\n",
    "</table>"
   ]
  },
  {
   "cell_type": "code",
   "execution_count": null,
   "metadata": {},
   "outputs": [],
   "source": [
    "!ollama pull llama3.2"
   ]
  },
  {
   "cell_type": "code",
   "execution_count": 18,
   "metadata": {},
   "outputs": [
    {
     "data": {
      "text/markdown": [
       "Prioritizing individual freedom over collective security can have significant philosophical, ethical, and practical implications for governance and social cohesion. Some of these implications include:\n",
       "\n",
       "Philosophical Implications:\n",
       "\n",
       "1. **Laissez-faire ideology**: Prioritizing individual freedom may lead to a reliance on laissez-faire economic policies, where the government minimizes its intervention in economic matters. This can result in significant income inequality, as those with more resources and power are able to accumulate wealth and influence.\n",
       "2. **Libertarianism vs. Social Justice**: The prioritization of individual freedom may lead to a conflict between libertarian ideologies that emphasize individual rights and social justice movements that aim to address systemic inequalities and promote collective well-being.\n",
       "\n",
       "Ethical Implications:\n",
       "\n",
       "1. **Security trade-offs**: By prioritizing individual freedom, societies may be willing to accept higher risks and uncertainties in pursuit of personal safety. This can lead to a morality dilemma where the greater good is sacrificed for individual interests.\n",
       "2. **Social inequality**: Prioritizing individual freedom can exacerbate social inequalities if those with more resources are better equipped to protect themselves from harm, while others may remain vulnerable.\n",
       "3. **Global responsibilities**: Individual societies may be less inclined to take global action on issues such as climate change or pandemics, prioritiz"
      ],
      "text/plain": [
       "<IPython.core.display.Markdown object>"
      ]
     },
     "metadata": {},
     "output_type": "display_data"
    }
   ],
   "source": [
    "ollama = OpenAI(base_url='http://localhost:11434/v1', api_key='ollama')\n",
    "model_name = \"llama3.2\"\n",
    "\n",
    "response = ollama.chat.completions.create(model=model_name, messages=messages)\n",
    "answer = response.choices[0].message.content\n",
    "\n",
    "display(Markdown(answer))\n",
    "competitors.append(model_name)\n",
    "answers.append(answer)"
   ]
  },
  {
   "cell_type": "code",
   "execution_count": 19,
   "metadata": {},
   "outputs": [
    {
     "name": "stdout",
     "output_type": "stream",
     "text": [
      "['gpt-4o-mini', 'gemini-2.0-flash', 'llama-3.3-70b-versatile', 'llama3.2']\n",
      "[\"Prioritizing individual freedom over collective security can significantly shape a society's philosophical, ethical, and practical landscape. Here are some potential implications of that choice on governance and social cohesion:\\n\\n### Philosophical Implications:\\n\\n1. **Libertarianism vs. Communitarianism**: The emphasis on individual freedom aligns with libertarian philosophical tenets, promoting autonomy, personal responsibility, and minimal interference by the state. In contrast, communitarian philosophy argues for the importance of community values and ethical obligations to others, which may be compromised in a society that prioritizes individual freedom.\\n\\n2. **Moral Responsibility**: A focus on individual freedom may cultivate a sense of moral autonomy, where individuals are seen as solely responsible for their choices. This can raise questions about social justice, particularly in how societal structures and inequalities may impact individual freedom.\\n\\n3. **Defining the Good Life**: The prioritization of individual freedom invites a diverse range of definitions of the 'good life,' potentially leading to philosophical pluralism. However, it can also challenge the idea of a shared moral framework that guides collective action and societal norms.\\n\\n### Ethical Implications:\\n\\n1. **Social Contracts**: The 'social contract' theory may be reinterpreted, where the duties of citizens to one another are viewed as secondary to individual rights. This can lead to ethical dilemmas regarding obligation to the community, especially in issues like resource distribution and public health.\\n\\n2. **Rights vs. Responsibilities**: Emphasizing individual rights can overshadow the responsibilities that individuals have towards their communities, potentially leading to ethical egoism where self-interest guides behavior over collective well-being.\\n\\n3. **Justification of Harm**: A society focused on individual freedoms might justify actions that harm others if those actions are framed as expressions of personal liberty. This can lead to ethical conflicts, particularly regarding issues such as hate speech, environmental degradation, and economic inequality.\\n\\n### Practical Implications:\\n\\n1. **Governance and Regulation**: A government that prioritizes individual freedom may implement minimal regulations, potentially leading to issues such as insufficient protections for marginalized groups, economic exploitation, or inadequate responses to public health crises.\\n\\n2. **Security vs. Freedom Trade-off**: The balance between security and freedom can become contentious. While individual freedoms are often seen as essential, neglecting collective security can lead to situations where societal safety is compromised, affecting overall well-being.\\n\\n3. **Social Cohesion and Fragmentation**: Prioritizing individual freedom can lead to increased personal autonomy but may also result in social fragmentation, where individuals become isolated in their pursuits. This fragmentation can weaken communal ties and reduce collective civic engagement.\\n\\n4. **Conflict and Discontent**: A lack of emphasis on collective security may create an environment where social grievances go unaddressed, leading to conflict among individuals and groups as they advocate for their interests at the expense of others.\\n\\n### Conclusion:\\n\\nThe choice to prioritize individual freedom over collective security presents a complex interplay of philosophical, ethical, and practical considerations. While it can foster innovation, personal expression, and self-determination, it can also challenge social cohesion, ethical commitments, and collective welfare. Societies navigating this balance must remain vigilant to ensure that individual freedoms do not come at the cost of the community's health and safety. This requires continual dialogue, ethical reflection, and adaptive governance structures to foster both individual rights and communal responsibilities.\", '## Implications of Prioritizing Individual Freedom Over Collective Security:\\n\\nPrioritizing individual freedom over collective security has profound philosophical, ethical, and practical implications on governance and social cohesion. It\\'s a complex balancing act with potential benefits and significant drawbacks.\\n\\n**Philosophical Implications:**\\n\\n* **Emphasis on Individual Rights:** This stance aligns with libertarian and individualist philosophies, emphasizing natural rights (life, liberty, property) and the inherent worth of each individual. The government\\'s primary role is to protect these rights, not to ensure collective safety at the expense of individual autonomy.\\n* **Skepticism towards State Power:**  There is a deep-seated distrust of centralized authority and a belief that the state is often a greater threat to freedom than external dangers.  Power should be decentralized and limited to prevent tyranny.\\n* **Value Pluralism:** This perspective acknowledges and embraces the diversity of values, beliefs, and lifestyles within a society. It rejects the idea that there is a single, correct way to live or that the state should enforce a particular moral code for the sake of collective security.\\n* **Individual Responsibility:**  With greater freedom comes greater responsibility. Individuals are expected to be self-reliant, responsible for their own actions, and accountable for any harm they cause to others.\\n\\n**Ethical Implications:**\\n\\n* **Autonomy vs. Welfare:** The core ethical dilemma is balancing individual autonomy (the right to make one\\'s own choices, even risky ones) with the overall welfare and safety of the community.  \\n* **Utilitarianism vs. Deontology:**  A utilitarian approach might argue that collective security is paramount because it maximizes happiness for the greatest number.  A deontological approach would prioritize individual rights, even if it leads to a less \"efficient\" or \"safe\" society.\\n* **Fairness and Equality:** If freedom is prioritized, it raises questions about how to ensure fairness and equality.  Does prioritizing freedom exacerbate existing inequalities, leaving vulnerable groups more exposed to threats?  How do we ensure that everyone has the resources and opportunities to exercise their freedom responsibly?\\n* **Moral Boundaries:** How do we define the limits of individual freedom when it conflicts with the safety and well-being of others?  For example, does freedom of speech extend to hate speech that incites violence? Does freedom of association include the right to form groups that threaten the security of the state?\\n\\n**Practical Implications on Governance:**\\n\\n* **Limited Government:** The government\\'s role is strictly limited to protecting individual rights, enforcing contracts, and providing essential public goods like national defense.  There is minimal intervention in the economy or personal lives.\\n* **Emphasis on Due Process and Rule of Law:**  Criminal justice systems prioritize due process and the protection of individual rights, even for suspected criminals.  The burden of proof rests on the state to demonstrate guilt beyond a reasonable doubt.\\n* **Decentralization of Power:** Power is dispersed among different levels of government (federal, state, local) and among different branches of government (executive, legislative, judicial) to prevent any single entity from becoming too powerful.\\n* **Strong Protection of Civil Liberties:**  Freedom of speech, freedom of the press, freedom of religion, freedom of assembly, and the right to bear arms are vigorously protected, even when these freedoms are unpopular or controversial.\\n* **Laissez-faire Economics:**  The government plays a minimal role in the economy, allowing individuals and businesses to operate with minimal regulation. This can lead to economic growth but also to greater inequality and economic insecurity.\\n\\n**Practical Implications on Social Cohesion:**\\n\\n* **Potential for Fragmentation:**  Prioritizing individual freedom can lead to a fragmented society, where individuals are less connected to each other and less willing to sacrifice for the common good.  Social trust may decline, and people may become more isolated and self-reliant.\\n* **Increased Social Conflict:**  A society that highly values individual freedom may experience more social conflict as individuals and groups pursue their own interests, even when those interests conflict with others.\\n* **Erosion of Shared Values:**  If there is no shared vision of the common good or no common set of values, it can be difficult to build a sense of community and solidarity.\\n* **Challenges to Collective Action:**  Addressing collective problems, such as climate change, public health crises, or economic inequality, can be more challenging in a society that prioritizes individual freedom over collective action.\\n* **Resilience and Innovation:**  On the other hand, a society that values individual freedom may be more resilient and innovative.  Individuals are free to experiment, take risks, and pursue their own goals, which can lead to new ideas, new technologies, and new solutions to social problems.\\n\\n**In Conclusion:**\\n\\nChoosing to prioritize individual freedom over collective security is a fundamental decision that shapes the character of a society. It can lead to a vibrant, innovative, and prosperous society, but it also carries risks of social fragmentation, inequality, and instability.  Successful implementation requires a careful balance between individual rights and the needs of the community, and a strong commitment to the rule of law, due process, and equal opportunity. It also demands a high degree of civic responsibility and a willingness to engage in constructive dialogue about the challenges facing the society.\\n', 'If a society prioritizes individual freedom over collective security, it can have significant philosophical, ethical, and practical implications on governance and social cohesion. Here are some potential implications:\\n\\n**Philosophical Implications:**\\n\\n1. **Libertarianism vs. Utilitarianism**: Prioritizing individual freedom may lead to a more libertarian approach, emphasizing individual rights and autonomy, while downplaying the importance of collective well-being and the greater good.\\n2. **Social Contract Theory**: This approach may challenge the social contract theory, which posits that individuals surrender some freedoms in exchange for protection and security provided by the state.\\n3. **Moral Individualism**: The emphasis on individual freedom may promote moral individualism, where individual moral agency and autonomy are valued over collective moral responsibilities.\\n\\n**Ethical Implications:**\\n\\n1. **Inequality and Marginalization**: Prioritizing individual freedom may exacerbate existing social and economic inequalities, as those with more resources and power may be better equipped to exercise their freedoms, while marginalized groups may be left behind.\\n2. **Vulnerability and Exploitation**: The emphasis on individual freedom may lead to increased vulnerability to exploitation, as individuals may be more susceptible to manipulation and coercion without collective protection.\\n3. **Lack of Social Solidarity**: The prioritization of individual freedom may erode social solidarity, as individuals may become more focused on their own interests and less concerned with the well-being of others.\\n\\n**Practical Implications:**\\n\\n1. **Weakened Social Safety Nets**: A society that prioritizes individual freedom may have weaker social safety nets, as the emphasis on personal responsibility may lead to reduced government support for vulnerable populations.\\n2. **Increased Crime and Disorder**: The lack of collective security measures may lead to increased crime and disorder, as individuals may feel more empowered to pursue their interests without regard for the consequences.\\n3. **Decreased Public Health and Safety**: The prioritization of individual freedom may lead to decreased public health and safety measures, as individuals may be more resistant to collective measures such as vaccination programs or environmental regulations.\\n4. **Challenges to Governance**: A society that prioritizes individual freedom may face challenges in governance, as the emphasis on individual autonomy may lead to resistance to authority and decreased cooperation with government initiatives.\\n5. **Social Fragmentation**: The prioritization of individual freedom may lead to social fragmentation, as individuals may become more isolated and less connected to their communities, leading to a breakdown in social cohesion.\\n\\n**Implications for Social Cohesion:**\\n\\n1. **Decreased Trust and Cooperation**: The emphasis on individual freedom may lead to decreased trust and cooperation among individuals, as they may become more focused on their own interests and less willing to work together for the common good.\\n2. **Increased Conflict**: The lack of collective security measures may lead to increased conflict, as individuals may be more likely to pursue their interests through aggressive means.\\n3. **Erosion of Community**: The prioritization of individual freedom may lead to the erosion of community, as individuals may become more disconnected from their surroundings and less invested in the well-being of others.\\n\\nIn conclusion, prioritizing individual freedom over collective security can have significant philosophical, ethical, and practical implications for governance and social cohesion. While individual freedom is an important value, it must be balanced with the need for collective security and social cohesion to ensure a stable and prosperous society.', 'Prioritizing individual freedom over collective security can have significant philosophical, ethical, and practical implications for governance and social cohesion. Some of these implications include:\\n\\nPhilosophical Implications:\\n\\n1. **Laissez-faire ideology**: Prioritizing individual freedom may lead to a reliance on laissez-faire economic policies, where the government minimizes its intervention in economic matters. This can result in significant income inequality, as those with more resources and power are able to accumulate wealth and influence.\\n2. **Libertarianism vs. Social Justice**: The prioritization of individual freedom may lead to a conflict between libertarian ideologies that emphasize individual rights and social justice movements that aim to address systemic inequalities and promote collective well-being.\\n\\nEthical Implications:\\n\\n1. **Security trade-offs**: By prioritizing individual freedom, societies may be willing to accept higher risks and uncertainties in pursuit of personal safety. This can lead to a morality dilemma where the greater good is sacrificed for individual interests.\\n2. **Social inequality**: Prioritizing individual freedom can exacerbate social inequalities if those with more resources are better equipped to protect themselves from harm, while others may remain vulnerable.\\n3. **Global responsibilities**: Individual societies may be less inclined to take global action on issues such as climate change or pandemics, prioritiz']\n"
     ]
    }
   ],
   "source": [
    "# So where are we?\n",
    "\n",
    "print(competitors)\n",
    "print(answers)\n"
   ]
  },
  {
   "cell_type": "code",
   "execution_count": 20,
   "metadata": {},
   "outputs": [
    {
     "name": "stdout",
     "output_type": "stream",
     "text": [
      "Competitor: gpt-4o-mini\n",
      "\n",
      "Prioritizing individual freedom over collective security can significantly shape a society's philosophical, ethical, and practical landscape. Here are some potential implications of that choice on governance and social cohesion:\n",
      "\n",
      "### Philosophical Implications:\n",
      "\n",
      "1. **Libertarianism vs. Communitarianism**: The emphasis on individual freedom aligns with libertarian philosophical tenets, promoting autonomy, personal responsibility, and minimal interference by the state. In contrast, communitarian philosophy argues for the importance of community values and ethical obligations to others, which may be compromised in a society that prioritizes individual freedom.\n",
      "\n",
      "2. **Moral Responsibility**: A focus on individual freedom may cultivate a sense of moral autonomy, where individuals are seen as solely responsible for their choices. This can raise questions about social justice, particularly in how societal structures and inequalities may impact individual freedom.\n",
      "\n",
      "3. **Defining the Good Life**: The prioritization of individual freedom invites a diverse range of definitions of the 'good life,' potentially leading to philosophical pluralism. However, it can also challenge the idea of a shared moral framework that guides collective action and societal norms.\n",
      "\n",
      "### Ethical Implications:\n",
      "\n",
      "1. **Social Contracts**: The 'social contract' theory may be reinterpreted, where the duties of citizens to one another are viewed as secondary to individual rights. This can lead to ethical dilemmas regarding obligation to the community, especially in issues like resource distribution and public health.\n",
      "\n",
      "2. **Rights vs. Responsibilities**: Emphasizing individual rights can overshadow the responsibilities that individuals have towards their communities, potentially leading to ethical egoism where self-interest guides behavior over collective well-being.\n",
      "\n",
      "3. **Justification of Harm**: A society focused on individual freedoms might justify actions that harm others if those actions are framed as expressions of personal liberty. This can lead to ethical conflicts, particularly regarding issues such as hate speech, environmental degradation, and economic inequality.\n",
      "\n",
      "### Practical Implications:\n",
      "\n",
      "1. **Governance and Regulation**: A government that prioritizes individual freedom may implement minimal regulations, potentially leading to issues such as insufficient protections for marginalized groups, economic exploitation, or inadequate responses to public health crises.\n",
      "\n",
      "2. **Security vs. Freedom Trade-off**: The balance between security and freedom can become contentious. While individual freedoms are often seen as essential, neglecting collective security can lead to situations where societal safety is compromised, affecting overall well-being.\n",
      "\n",
      "3. **Social Cohesion and Fragmentation**: Prioritizing individual freedom can lead to increased personal autonomy but may also result in social fragmentation, where individuals become isolated in their pursuits. This fragmentation can weaken communal ties and reduce collective civic engagement.\n",
      "\n",
      "4. **Conflict and Discontent**: A lack of emphasis on collective security may create an environment where social grievances go unaddressed, leading to conflict among individuals and groups as they advocate for their interests at the expense of others.\n",
      "\n",
      "### Conclusion:\n",
      "\n",
      "The choice to prioritize individual freedom over collective security presents a complex interplay of philosophical, ethical, and practical considerations. While it can foster innovation, personal expression, and self-determination, it can also challenge social cohesion, ethical commitments, and collective welfare. Societies navigating this balance must remain vigilant to ensure that individual freedoms do not come at the cost of the community's health and safety. This requires continual dialogue, ethical reflection, and adaptive governance structures to foster both individual rights and communal responsibilities.\n",
      "Competitor: gemini-2.0-flash\n",
      "\n",
      "## Implications of Prioritizing Individual Freedom Over Collective Security:\n",
      "\n",
      "Prioritizing individual freedom over collective security has profound philosophical, ethical, and practical implications on governance and social cohesion. It's a complex balancing act with potential benefits and significant drawbacks.\n",
      "\n",
      "**Philosophical Implications:**\n",
      "\n",
      "* **Emphasis on Individual Rights:** This stance aligns with libertarian and individualist philosophies, emphasizing natural rights (life, liberty, property) and the inherent worth of each individual. The government's primary role is to protect these rights, not to ensure collective safety at the expense of individual autonomy.\n",
      "* **Skepticism towards State Power:**  There is a deep-seated distrust of centralized authority and a belief that the state is often a greater threat to freedom than external dangers.  Power should be decentralized and limited to prevent tyranny.\n",
      "* **Value Pluralism:** This perspective acknowledges and embraces the diversity of values, beliefs, and lifestyles within a society. It rejects the idea that there is a single, correct way to live or that the state should enforce a particular moral code for the sake of collective security.\n",
      "* **Individual Responsibility:**  With greater freedom comes greater responsibility. Individuals are expected to be self-reliant, responsible for their own actions, and accountable for any harm they cause to others.\n",
      "\n",
      "**Ethical Implications:**\n",
      "\n",
      "* **Autonomy vs. Welfare:** The core ethical dilemma is balancing individual autonomy (the right to make one's own choices, even risky ones) with the overall welfare and safety of the community.  \n",
      "* **Utilitarianism vs. Deontology:**  A utilitarian approach might argue that collective security is paramount because it maximizes happiness for the greatest number.  A deontological approach would prioritize individual rights, even if it leads to a less \"efficient\" or \"safe\" society.\n",
      "* **Fairness and Equality:** If freedom is prioritized, it raises questions about how to ensure fairness and equality.  Does prioritizing freedom exacerbate existing inequalities, leaving vulnerable groups more exposed to threats?  How do we ensure that everyone has the resources and opportunities to exercise their freedom responsibly?\n",
      "* **Moral Boundaries:** How do we define the limits of individual freedom when it conflicts with the safety and well-being of others?  For example, does freedom of speech extend to hate speech that incites violence? Does freedom of association include the right to form groups that threaten the security of the state?\n",
      "\n",
      "**Practical Implications on Governance:**\n",
      "\n",
      "* **Limited Government:** The government's role is strictly limited to protecting individual rights, enforcing contracts, and providing essential public goods like national defense.  There is minimal intervention in the economy or personal lives.\n",
      "* **Emphasis on Due Process and Rule of Law:**  Criminal justice systems prioritize due process and the protection of individual rights, even for suspected criminals.  The burden of proof rests on the state to demonstrate guilt beyond a reasonable doubt.\n",
      "* **Decentralization of Power:** Power is dispersed among different levels of government (federal, state, local) and among different branches of government (executive, legislative, judicial) to prevent any single entity from becoming too powerful.\n",
      "* **Strong Protection of Civil Liberties:**  Freedom of speech, freedom of the press, freedom of religion, freedom of assembly, and the right to bear arms are vigorously protected, even when these freedoms are unpopular or controversial.\n",
      "* **Laissez-faire Economics:**  The government plays a minimal role in the economy, allowing individuals and businesses to operate with minimal regulation. This can lead to economic growth but also to greater inequality and economic insecurity.\n",
      "\n",
      "**Practical Implications on Social Cohesion:**\n",
      "\n",
      "* **Potential for Fragmentation:**  Prioritizing individual freedom can lead to a fragmented society, where individuals are less connected to each other and less willing to sacrifice for the common good.  Social trust may decline, and people may become more isolated and self-reliant.\n",
      "* **Increased Social Conflict:**  A society that highly values individual freedom may experience more social conflict as individuals and groups pursue their own interests, even when those interests conflict with others.\n",
      "* **Erosion of Shared Values:**  If there is no shared vision of the common good or no common set of values, it can be difficult to build a sense of community and solidarity.\n",
      "* **Challenges to Collective Action:**  Addressing collective problems, such as climate change, public health crises, or economic inequality, can be more challenging in a society that prioritizes individual freedom over collective action.\n",
      "* **Resilience and Innovation:**  On the other hand, a society that values individual freedom may be more resilient and innovative.  Individuals are free to experiment, take risks, and pursue their own goals, which can lead to new ideas, new technologies, and new solutions to social problems.\n",
      "\n",
      "**In Conclusion:**\n",
      "\n",
      "Choosing to prioritize individual freedom over collective security is a fundamental decision that shapes the character of a society. It can lead to a vibrant, innovative, and prosperous society, but it also carries risks of social fragmentation, inequality, and instability.  Successful implementation requires a careful balance between individual rights and the needs of the community, and a strong commitment to the rule of law, due process, and equal opportunity. It also demands a high degree of civic responsibility and a willingness to engage in constructive dialogue about the challenges facing the society.\n",
      "\n",
      "Competitor: llama-3.3-70b-versatile\n",
      "\n",
      "If a society prioritizes individual freedom over collective security, it can have significant philosophical, ethical, and practical implications on governance and social cohesion. Here are some potential implications:\n",
      "\n",
      "**Philosophical Implications:**\n",
      "\n",
      "1. **Libertarianism vs. Utilitarianism**: Prioritizing individual freedom may lead to a more libertarian approach, emphasizing individual rights and autonomy, while downplaying the importance of collective well-being and the greater good.\n",
      "2. **Social Contract Theory**: This approach may challenge the social contract theory, which posits that individuals surrender some freedoms in exchange for protection and security provided by the state.\n",
      "3. **Moral Individualism**: The emphasis on individual freedom may promote moral individualism, where individual moral agency and autonomy are valued over collective moral responsibilities.\n",
      "\n",
      "**Ethical Implications:**\n",
      "\n",
      "1. **Inequality and Marginalization**: Prioritizing individual freedom may exacerbate existing social and economic inequalities, as those with more resources and power may be better equipped to exercise their freedoms, while marginalized groups may be left behind.\n",
      "2. **Vulnerability and Exploitation**: The emphasis on individual freedom may lead to increased vulnerability to exploitation, as individuals may be more susceptible to manipulation and coercion without collective protection.\n",
      "3. **Lack of Social Solidarity**: The prioritization of individual freedom may erode social solidarity, as individuals may become more focused on their own interests and less concerned with the well-being of others.\n",
      "\n",
      "**Practical Implications:**\n",
      "\n",
      "1. **Weakened Social Safety Nets**: A society that prioritizes individual freedom may have weaker social safety nets, as the emphasis on personal responsibility may lead to reduced government support for vulnerable populations.\n",
      "2. **Increased Crime and Disorder**: The lack of collective security measures may lead to increased crime and disorder, as individuals may feel more empowered to pursue their interests without regard for the consequences.\n",
      "3. **Decreased Public Health and Safety**: The prioritization of individual freedom may lead to decreased public health and safety measures, as individuals may be more resistant to collective measures such as vaccination programs or environmental regulations.\n",
      "4. **Challenges to Governance**: A society that prioritizes individual freedom may face challenges in governance, as the emphasis on individual autonomy may lead to resistance to authority and decreased cooperation with government initiatives.\n",
      "5. **Social Fragmentation**: The prioritization of individual freedom may lead to social fragmentation, as individuals may become more isolated and less connected to their communities, leading to a breakdown in social cohesion.\n",
      "\n",
      "**Implications for Social Cohesion:**\n",
      "\n",
      "1. **Decreased Trust and Cooperation**: The emphasis on individual freedom may lead to decreased trust and cooperation among individuals, as they may become more focused on their own interests and less willing to work together for the common good.\n",
      "2. **Increased Conflict**: The lack of collective security measures may lead to increased conflict, as individuals may be more likely to pursue their interests through aggressive means.\n",
      "3. **Erosion of Community**: The prioritization of individual freedom may lead to the erosion of community, as individuals may become more disconnected from their surroundings and less invested in the well-being of others.\n",
      "\n",
      "In conclusion, prioritizing individual freedom over collective security can have significant philosophical, ethical, and practical implications for governance and social cohesion. While individual freedom is an important value, it must be balanced with the need for collective security and social cohesion to ensure a stable and prosperous society.\n",
      "Competitor: llama3.2\n",
      "\n",
      "Prioritizing individual freedom over collective security can have significant philosophical, ethical, and practical implications for governance and social cohesion. Some of these implications include:\n",
      "\n",
      "Philosophical Implications:\n",
      "\n",
      "1. **Laissez-faire ideology**: Prioritizing individual freedom may lead to a reliance on laissez-faire economic policies, where the government minimizes its intervention in economic matters. This can result in significant income inequality, as those with more resources and power are able to accumulate wealth and influence.\n",
      "2. **Libertarianism vs. Social Justice**: The prioritization of individual freedom may lead to a conflict between libertarian ideologies that emphasize individual rights and social justice movements that aim to address systemic inequalities and promote collective well-being.\n",
      "\n",
      "Ethical Implications:\n",
      "\n",
      "1. **Security trade-offs**: By prioritizing individual freedom, societies may be willing to accept higher risks and uncertainties in pursuit of personal safety. This can lead to a morality dilemma where the greater good is sacrificed for individual interests.\n",
      "2. **Social inequality**: Prioritizing individual freedom can exacerbate social inequalities if those with more resources are better equipped to protect themselves from harm, while others may remain vulnerable.\n",
      "3. **Global responsibilities**: Individual societies may be less inclined to take global action on issues such as climate change or pandemics, prioritiz\n"
     ]
    }
   ],
   "source": [
    "# It's nice to know how to use \"zip\"\n",
    "for competitor, answer in zip(competitors, answers):\n",
    "    print(f\"Competitor: {competitor}\\n\\n{answer}\")\n"
   ]
  },
  {
   "cell_type": "code",
   "execution_count": 21,
   "metadata": {},
   "outputs": [],
   "source": [
    "# Let's bring this together - note the use of \"enumerate\"\n",
    "\n",
    "together = \"\"\n",
    "for index, answer in enumerate(answers):\n",
    "    together += f\"# Response from competitor {index+1}\\n\\n\"\n",
    "    together += answer + \"\\n\\n\""
   ]
  },
  {
   "cell_type": "code",
   "execution_count": 22,
   "metadata": {},
   "outputs": [
    {
     "name": "stdout",
     "output_type": "stream",
     "text": [
      "# Response from competitor 1\n",
      "\n",
      "Prioritizing individual freedom over collective security can significantly shape a society's philosophical, ethical, and practical landscape. Here are some potential implications of that choice on governance and social cohesion:\n",
      "\n",
      "### Philosophical Implications:\n",
      "\n",
      "1. **Libertarianism vs. Communitarianism**: The emphasis on individual freedom aligns with libertarian philosophical tenets, promoting autonomy, personal responsibility, and minimal interference by the state. In contrast, communitarian philosophy argues for the importance of community values and ethical obligations to others, which may be compromised in a society that prioritizes individual freedom.\n",
      "\n",
      "2. **Moral Responsibility**: A focus on individual freedom may cultivate a sense of moral autonomy, where individuals are seen as solely responsible for their choices. This can raise questions about social justice, particularly in how societal structures and inequalities may impact individual freedom.\n",
      "\n",
      "3. **Defining the Good Life**: The prioritization of individual freedom invites a diverse range of definitions of the 'good life,' potentially leading to philosophical pluralism. However, it can also challenge the idea of a shared moral framework that guides collective action and societal norms.\n",
      "\n",
      "### Ethical Implications:\n",
      "\n",
      "1. **Social Contracts**: The 'social contract' theory may be reinterpreted, where the duties of citizens to one another are viewed as secondary to individual rights. This can lead to ethical dilemmas regarding obligation to the community, especially in issues like resource distribution and public health.\n",
      "\n",
      "2. **Rights vs. Responsibilities**: Emphasizing individual rights can overshadow the responsibilities that individuals have towards their communities, potentially leading to ethical egoism where self-interest guides behavior over collective well-being.\n",
      "\n",
      "3. **Justification of Harm**: A society focused on individual freedoms might justify actions that harm others if those actions are framed as expressions of personal liberty. This can lead to ethical conflicts, particularly regarding issues such as hate speech, environmental degradation, and economic inequality.\n",
      "\n",
      "### Practical Implications:\n",
      "\n",
      "1. **Governance and Regulation**: A government that prioritizes individual freedom may implement minimal regulations, potentially leading to issues such as insufficient protections for marginalized groups, economic exploitation, or inadequate responses to public health crises.\n",
      "\n",
      "2. **Security vs. Freedom Trade-off**: The balance between security and freedom can become contentious. While individual freedoms are often seen as essential, neglecting collective security can lead to situations where societal safety is compromised, affecting overall well-being.\n",
      "\n",
      "3. **Social Cohesion and Fragmentation**: Prioritizing individual freedom can lead to increased personal autonomy but may also result in social fragmentation, where individuals become isolated in their pursuits. This fragmentation can weaken communal ties and reduce collective civic engagement.\n",
      "\n",
      "4. **Conflict and Discontent**: A lack of emphasis on collective security may create an environment where social grievances go unaddressed, leading to conflict among individuals and groups as they advocate for their interests at the expense of others.\n",
      "\n",
      "### Conclusion:\n",
      "\n",
      "The choice to prioritize individual freedom over collective security presents a complex interplay of philosophical, ethical, and practical considerations. While it can foster innovation, personal expression, and self-determination, it can also challenge social cohesion, ethical commitments, and collective welfare. Societies navigating this balance must remain vigilant to ensure that individual freedoms do not come at the cost of the community's health and safety. This requires continual dialogue, ethical reflection, and adaptive governance structures to foster both individual rights and communal responsibilities.\n",
      "\n",
      "# Response from competitor 2\n",
      "\n",
      "## Implications of Prioritizing Individual Freedom Over Collective Security:\n",
      "\n",
      "Prioritizing individual freedom over collective security has profound philosophical, ethical, and practical implications on governance and social cohesion. It's a complex balancing act with potential benefits and significant drawbacks.\n",
      "\n",
      "**Philosophical Implications:**\n",
      "\n",
      "* **Emphasis on Individual Rights:** This stance aligns with libertarian and individualist philosophies, emphasizing natural rights (life, liberty, property) and the inherent worth of each individual. The government's primary role is to protect these rights, not to ensure collective safety at the expense of individual autonomy.\n",
      "* **Skepticism towards State Power:**  There is a deep-seated distrust of centralized authority and a belief that the state is often a greater threat to freedom than external dangers.  Power should be decentralized and limited to prevent tyranny.\n",
      "* **Value Pluralism:** This perspective acknowledges and embraces the diversity of values, beliefs, and lifestyles within a society. It rejects the idea that there is a single, correct way to live or that the state should enforce a particular moral code for the sake of collective security.\n",
      "* **Individual Responsibility:**  With greater freedom comes greater responsibility. Individuals are expected to be self-reliant, responsible for their own actions, and accountable for any harm they cause to others.\n",
      "\n",
      "**Ethical Implications:**\n",
      "\n",
      "* **Autonomy vs. Welfare:** The core ethical dilemma is balancing individual autonomy (the right to make one's own choices, even risky ones) with the overall welfare and safety of the community.  \n",
      "* **Utilitarianism vs. Deontology:**  A utilitarian approach might argue that collective security is paramount because it maximizes happiness for the greatest number.  A deontological approach would prioritize individual rights, even if it leads to a less \"efficient\" or \"safe\" society.\n",
      "* **Fairness and Equality:** If freedom is prioritized, it raises questions about how to ensure fairness and equality.  Does prioritizing freedom exacerbate existing inequalities, leaving vulnerable groups more exposed to threats?  How do we ensure that everyone has the resources and opportunities to exercise their freedom responsibly?\n",
      "* **Moral Boundaries:** How do we define the limits of individual freedom when it conflicts with the safety and well-being of others?  For example, does freedom of speech extend to hate speech that incites violence? Does freedom of association include the right to form groups that threaten the security of the state?\n",
      "\n",
      "**Practical Implications on Governance:**\n",
      "\n",
      "* **Limited Government:** The government's role is strictly limited to protecting individual rights, enforcing contracts, and providing essential public goods like national defense.  There is minimal intervention in the economy or personal lives.\n",
      "* **Emphasis on Due Process and Rule of Law:**  Criminal justice systems prioritize due process and the protection of individual rights, even for suspected criminals.  The burden of proof rests on the state to demonstrate guilt beyond a reasonable doubt.\n",
      "* **Decentralization of Power:** Power is dispersed among different levels of government (federal, state, local) and among different branches of government (executive, legislative, judicial) to prevent any single entity from becoming too powerful.\n",
      "* **Strong Protection of Civil Liberties:**  Freedom of speech, freedom of the press, freedom of religion, freedom of assembly, and the right to bear arms are vigorously protected, even when these freedoms are unpopular or controversial.\n",
      "* **Laissez-faire Economics:**  The government plays a minimal role in the economy, allowing individuals and businesses to operate with minimal regulation. This can lead to economic growth but also to greater inequality and economic insecurity.\n",
      "\n",
      "**Practical Implications on Social Cohesion:**\n",
      "\n",
      "* **Potential for Fragmentation:**  Prioritizing individual freedom can lead to a fragmented society, where individuals are less connected to each other and less willing to sacrifice for the common good.  Social trust may decline, and people may become more isolated and self-reliant.\n",
      "* **Increased Social Conflict:**  A society that highly values individual freedom may experience more social conflict as individuals and groups pursue their own interests, even when those interests conflict with others.\n",
      "* **Erosion of Shared Values:**  If there is no shared vision of the common good or no common set of values, it can be difficult to build a sense of community and solidarity.\n",
      "* **Challenges to Collective Action:**  Addressing collective problems, such as climate change, public health crises, or economic inequality, can be more challenging in a society that prioritizes individual freedom over collective action.\n",
      "* **Resilience and Innovation:**  On the other hand, a society that values individual freedom may be more resilient and innovative.  Individuals are free to experiment, take risks, and pursue their own goals, which can lead to new ideas, new technologies, and new solutions to social problems.\n",
      "\n",
      "**In Conclusion:**\n",
      "\n",
      "Choosing to prioritize individual freedom over collective security is a fundamental decision that shapes the character of a society. It can lead to a vibrant, innovative, and prosperous society, but it also carries risks of social fragmentation, inequality, and instability.  Successful implementation requires a careful balance between individual rights and the needs of the community, and a strong commitment to the rule of law, due process, and equal opportunity. It also demands a high degree of civic responsibility and a willingness to engage in constructive dialogue about the challenges facing the society.\n",
      "\n",
      "\n",
      "# Response from competitor 3\n",
      "\n",
      "If a society prioritizes individual freedom over collective security, it can have significant philosophical, ethical, and practical implications on governance and social cohesion. Here are some potential implications:\n",
      "\n",
      "**Philosophical Implications:**\n",
      "\n",
      "1. **Libertarianism vs. Utilitarianism**: Prioritizing individual freedom may lead to a more libertarian approach, emphasizing individual rights and autonomy, while downplaying the importance of collective well-being and the greater good.\n",
      "2. **Social Contract Theory**: This approach may challenge the social contract theory, which posits that individuals surrender some freedoms in exchange for protection and security provided by the state.\n",
      "3. **Moral Individualism**: The emphasis on individual freedom may promote moral individualism, where individual moral agency and autonomy are valued over collective moral responsibilities.\n",
      "\n",
      "**Ethical Implications:**\n",
      "\n",
      "1. **Inequality and Marginalization**: Prioritizing individual freedom may exacerbate existing social and economic inequalities, as those with more resources and power may be better equipped to exercise their freedoms, while marginalized groups may be left behind.\n",
      "2. **Vulnerability and Exploitation**: The emphasis on individual freedom may lead to increased vulnerability to exploitation, as individuals may be more susceptible to manipulation and coercion without collective protection.\n",
      "3. **Lack of Social Solidarity**: The prioritization of individual freedom may erode social solidarity, as individuals may become more focused on their own interests and less concerned with the well-being of others.\n",
      "\n",
      "**Practical Implications:**\n",
      "\n",
      "1. **Weakened Social Safety Nets**: A society that prioritizes individual freedom may have weaker social safety nets, as the emphasis on personal responsibility may lead to reduced government support for vulnerable populations.\n",
      "2. **Increased Crime and Disorder**: The lack of collective security measures may lead to increased crime and disorder, as individuals may feel more empowered to pursue their interests without regard for the consequences.\n",
      "3. **Decreased Public Health and Safety**: The prioritization of individual freedom may lead to decreased public health and safety measures, as individuals may be more resistant to collective measures such as vaccination programs or environmental regulations.\n",
      "4. **Challenges to Governance**: A society that prioritizes individual freedom may face challenges in governance, as the emphasis on individual autonomy may lead to resistance to authority and decreased cooperation with government initiatives.\n",
      "5. **Social Fragmentation**: The prioritization of individual freedom may lead to social fragmentation, as individuals may become more isolated and less connected to their communities, leading to a breakdown in social cohesion.\n",
      "\n",
      "**Implications for Social Cohesion:**\n",
      "\n",
      "1. **Decreased Trust and Cooperation**: The emphasis on individual freedom may lead to decreased trust and cooperation among individuals, as they may become more focused on their own interests and less willing to work together for the common good.\n",
      "2. **Increased Conflict**: The lack of collective security measures may lead to increased conflict, as individuals may be more likely to pursue their interests through aggressive means.\n",
      "3. **Erosion of Community**: The prioritization of individual freedom may lead to the erosion of community, as individuals may become more disconnected from their surroundings and less invested in the well-being of others.\n",
      "\n",
      "In conclusion, prioritizing individual freedom over collective security can have significant philosophical, ethical, and practical implications for governance and social cohesion. While individual freedom is an important value, it must be balanced with the need for collective security and social cohesion to ensure a stable and prosperous society.\n",
      "\n",
      "# Response from competitor 4\n",
      "\n",
      "Prioritizing individual freedom over collective security can have significant philosophical, ethical, and practical implications for governance and social cohesion. Some of these implications include:\n",
      "\n",
      "Philosophical Implications:\n",
      "\n",
      "1. **Laissez-faire ideology**: Prioritizing individual freedom may lead to a reliance on laissez-faire economic policies, where the government minimizes its intervention in economic matters. This can result in significant income inequality, as those with more resources and power are able to accumulate wealth and influence.\n",
      "2. **Libertarianism vs. Social Justice**: The prioritization of individual freedom may lead to a conflict between libertarian ideologies that emphasize individual rights and social justice movements that aim to address systemic inequalities and promote collective well-being.\n",
      "\n",
      "Ethical Implications:\n",
      "\n",
      "1. **Security trade-offs**: By prioritizing individual freedom, societies may be willing to accept higher risks and uncertainties in pursuit of personal safety. This can lead to a morality dilemma where the greater good is sacrificed for individual interests.\n",
      "2. **Social inequality**: Prioritizing individual freedom can exacerbate social inequalities if those with more resources are better equipped to protect themselves from harm, while others may remain vulnerable.\n",
      "3. **Global responsibilities**: Individual societies may be less inclined to take global action on issues such as climate change or pandemics, prioritiz\n",
      "\n",
      "\n"
     ]
    }
   ],
   "source": [
    "print(together)"
   ]
  },
  {
   "cell_type": "code",
   "execution_count": 23,
   "metadata": {},
   "outputs": [],
   "source": [
    "judge = f\"\"\"You are judging a competition between {len(competitors)} competitors.\n",
    "Each model has been given this question:\n",
    "\n",
    "{question}\n",
    "\n",
    "Your job is to evaluate each response for clarity and strength of argument, and rank them in order of best to worst.\n",
    "Respond with JSON, and only JSON, with the following format:\n",
    "{{\"results\": [\"best competitor number\", \"second best competitor number\", \"third best competitor number\", ...]}}\n",
    "\n",
    "Here are the responses from each competitor:\n",
    "\n",
    "{together}\n",
    "\n",
    "Now respond with the JSON with the ranked order of the competitors, nothing else. Do not include markdown formatting or code blocks.\"\"\"\n"
   ]
  },
  {
   "cell_type": "code",
   "execution_count": 24,
   "metadata": {},
   "outputs": [
    {
     "name": "stdout",
     "output_type": "stream",
     "text": [
      "You are judging a competition between 4 competitors.\n",
      "Each model has been given this question:\n",
      "\n",
      "If a society prioritizes individual freedom over collective security, what are the potential philosophical, ethical, and practical implications of that choice on governance and social cohesion?\n",
      "\n",
      "Your job is to evaluate each response for clarity and strength of argument, and rank them in order of best to worst.\n",
      "Respond with JSON, and only JSON, with the following format:\n",
      "{\"results\": [\"best competitor number\", \"second best competitor number\", \"third best competitor number\", ...]}\n",
      "\n",
      "Here are the responses from each competitor:\n",
      "\n",
      "# Response from competitor 1\n",
      "\n",
      "Prioritizing individual freedom over collective security can significantly shape a society's philosophical, ethical, and practical landscape. Here are some potential implications of that choice on governance and social cohesion:\n",
      "\n",
      "### Philosophical Implications:\n",
      "\n",
      "1. **Libertarianism vs. Communitarianism**: The emphasis on individual freedom aligns with libertarian philosophical tenets, promoting autonomy, personal responsibility, and minimal interference by the state. In contrast, communitarian philosophy argues for the importance of community values and ethical obligations to others, which may be compromised in a society that prioritizes individual freedom.\n",
      "\n",
      "2. **Moral Responsibility**: A focus on individual freedom may cultivate a sense of moral autonomy, where individuals are seen as solely responsible for their choices. This can raise questions about social justice, particularly in how societal structures and inequalities may impact individual freedom.\n",
      "\n",
      "3. **Defining the Good Life**: The prioritization of individual freedom invites a diverse range of definitions of the 'good life,' potentially leading to philosophical pluralism. However, it can also challenge the idea of a shared moral framework that guides collective action and societal norms.\n",
      "\n",
      "### Ethical Implications:\n",
      "\n",
      "1. **Social Contracts**: The 'social contract' theory may be reinterpreted, where the duties of citizens to one another are viewed as secondary to individual rights. This can lead to ethical dilemmas regarding obligation to the community, especially in issues like resource distribution and public health.\n",
      "\n",
      "2. **Rights vs. Responsibilities**: Emphasizing individual rights can overshadow the responsibilities that individuals have towards their communities, potentially leading to ethical egoism where self-interest guides behavior over collective well-being.\n",
      "\n",
      "3. **Justification of Harm**: A society focused on individual freedoms might justify actions that harm others if those actions are framed as expressions of personal liberty. This can lead to ethical conflicts, particularly regarding issues such as hate speech, environmental degradation, and economic inequality.\n",
      "\n",
      "### Practical Implications:\n",
      "\n",
      "1. **Governance and Regulation**: A government that prioritizes individual freedom may implement minimal regulations, potentially leading to issues such as insufficient protections for marginalized groups, economic exploitation, or inadequate responses to public health crises.\n",
      "\n",
      "2. **Security vs. Freedom Trade-off**: The balance between security and freedom can become contentious. While individual freedoms are often seen as essential, neglecting collective security can lead to situations where societal safety is compromised, affecting overall well-being.\n",
      "\n",
      "3. **Social Cohesion and Fragmentation**: Prioritizing individual freedom can lead to increased personal autonomy but may also result in social fragmentation, where individuals become isolated in their pursuits. This fragmentation can weaken communal ties and reduce collective civic engagement.\n",
      "\n",
      "4. **Conflict and Discontent**: A lack of emphasis on collective security may create an environment where social grievances go unaddressed, leading to conflict among individuals and groups as they advocate for their interests at the expense of others.\n",
      "\n",
      "### Conclusion:\n",
      "\n",
      "The choice to prioritize individual freedom over collective security presents a complex interplay of philosophical, ethical, and practical considerations. While it can foster innovation, personal expression, and self-determination, it can also challenge social cohesion, ethical commitments, and collective welfare. Societies navigating this balance must remain vigilant to ensure that individual freedoms do not come at the cost of the community's health and safety. This requires continual dialogue, ethical reflection, and adaptive governance structures to foster both individual rights and communal responsibilities.\n",
      "\n",
      "# Response from competitor 2\n",
      "\n",
      "## Implications of Prioritizing Individual Freedom Over Collective Security:\n",
      "\n",
      "Prioritizing individual freedom over collective security has profound philosophical, ethical, and practical implications on governance and social cohesion. It's a complex balancing act with potential benefits and significant drawbacks.\n",
      "\n",
      "**Philosophical Implications:**\n",
      "\n",
      "* **Emphasis on Individual Rights:** This stance aligns with libertarian and individualist philosophies, emphasizing natural rights (life, liberty, property) and the inherent worth of each individual. The government's primary role is to protect these rights, not to ensure collective safety at the expense of individual autonomy.\n",
      "* **Skepticism towards State Power:**  There is a deep-seated distrust of centralized authority and a belief that the state is often a greater threat to freedom than external dangers.  Power should be decentralized and limited to prevent tyranny.\n",
      "* **Value Pluralism:** This perspective acknowledges and embraces the diversity of values, beliefs, and lifestyles within a society. It rejects the idea that there is a single, correct way to live or that the state should enforce a particular moral code for the sake of collective security.\n",
      "* **Individual Responsibility:**  With greater freedom comes greater responsibility. Individuals are expected to be self-reliant, responsible for their own actions, and accountable for any harm they cause to others.\n",
      "\n",
      "**Ethical Implications:**\n",
      "\n",
      "* **Autonomy vs. Welfare:** The core ethical dilemma is balancing individual autonomy (the right to make one's own choices, even risky ones) with the overall welfare and safety of the community.  \n",
      "* **Utilitarianism vs. Deontology:**  A utilitarian approach might argue that collective security is paramount because it maximizes happiness for the greatest number.  A deontological approach would prioritize individual rights, even if it leads to a less \"efficient\" or \"safe\" society.\n",
      "* **Fairness and Equality:** If freedom is prioritized, it raises questions about how to ensure fairness and equality.  Does prioritizing freedom exacerbate existing inequalities, leaving vulnerable groups more exposed to threats?  How do we ensure that everyone has the resources and opportunities to exercise their freedom responsibly?\n",
      "* **Moral Boundaries:** How do we define the limits of individual freedom when it conflicts with the safety and well-being of others?  For example, does freedom of speech extend to hate speech that incites violence? Does freedom of association include the right to form groups that threaten the security of the state?\n",
      "\n",
      "**Practical Implications on Governance:**\n",
      "\n",
      "* **Limited Government:** The government's role is strictly limited to protecting individual rights, enforcing contracts, and providing essential public goods like national defense.  There is minimal intervention in the economy or personal lives.\n",
      "* **Emphasis on Due Process and Rule of Law:**  Criminal justice systems prioritize due process and the protection of individual rights, even for suspected criminals.  The burden of proof rests on the state to demonstrate guilt beyond a reasonable doubt.\n",
      "* **Decentralization of Power:** Power is dispersed among different levels of government (federal, state, local) and among different branches of government (executive, legislative, judicial) to prevent any single entity from becoming too powerful.\n",
      "* **Strong Protection of Civil Liberties:**  Freedom of speech, freedom of the press, freedom of religion, freedom of assembly, and the right to bear arms are vigorously protected, even when these freedoms are unpopular or controversial.\n",
      "* **Laissez-faire Economics:**  The government plays a minimal role in the economy, allowing individuals and businesses to operate with minimal regulation. This can lead to economic growth but also to greater inequality and economic insecurity.\n",
      "\n",
      "**Practical Implications on Social Cohesion:**\n",
      "\n",
      "* **Potential for Fragmentation:**  Prioritizing individual freedom can lead to a fragmented society, where individuals are less connected to each other and less willing to sacrifice for the common good.  Social trust may decline, and people may become more isolated and self-reliant.\n",
      "* **Increased Social Conflict:**  A society that highly values individual freedom may experience more social conflict as individuals and groups pursue their own interests, even when those interests conflict with others.\n",
      "* **Erosion of Shared Values:**  If there is no shared vision of the common good or no common set of values, it can be difficult to build a sense of community and solidarity.\n",
      "* **Challenges to Collective Action:**  Addressing collective problems, such as climate change, public health crises, or economic inequality, can be more challenging in a society that prioritizes individual freedom over collective action.\n",
      "* **Resilience and Innovation:**  On the other hand, a society that values individual freedom may be more resilient and innovative.  Individuals are free to experiment, take risks, and pursue their own goals, which can lead to new ideas, new technologies, and new solutions to social problems.\n",
      "\n",
      "**In Conclusion:**\n",
      "\n",
      "Choosing to prioritize individual freedom over collective security is a fundamental decision that shapes the character of a society. It can lead to a vibrant, innovative, and prosperous society, but it also carries risks of social fragmentation, inequality, and instability.  Successful implementation requires a careful balance between individual rights and the needs of the community, and a strong commitment to the rule of law, due process, and equal opportunity. It also demands a high degree of civic responsibility and a willingness to engage in constructive dialogue about the challenges facing the society.\n",
      "\n",
      "\n",
      "# Response from competitor 3\n",
      "\n",
      "If a society prioritizes individual freedom over collective security, it can have significant philosophical, ethical, and practical implications on governance and social cohesion. Here are some potential implications:\n",
      "\n",
      "**Philosophical Implications:**\n",
      "\n",
      "1. **Libertarianism vs. Utilitarianism**: Prioritizing individual freedom may lead to a more libertarian approach, emphasizing individual rights and autonomy, while downplaying the importance of collective well-being and the greater good.\n",
      "2. **Social Contract Theory**: This approach may challenge the social contract theory, which posits that individuals surrender some freedoms in exchange for protection and security provided by the state.\n",
      "3. **Moral Individualism**: The emphasis on individual freedom may promote moral individualism, where individual moral agency and autonomy are valued over collective moral responsibilities.\n",
      "\n",
      "**Ethical Implications:**\n",
      "\n",
      "1. **Inequality and Marginalization**: Prioritizing individual freedom may exacerbate existing social and economic inequalities, as those with more resources and power may be better equipped to exercise their freedoms, while marginalized groups may be left behind.\n",
      "2. **Vulnerability and Exploitation**: The emphasis on individual freedom may lead to increased vulnerability to exploitation, as individuals may be more susceptible to manipulation and coercion without collective protection.\n",
      "3. **Lack of Social Solidarity**: The prioritization of individual freedom may erode social solidarity, as individuals may become more focused on their own interests and less concerned with the well-being of others.\n",
      "\n",
      "**Practical Implications:**\n",
      "\n",
      "1. **Weakened Social Safety Nets**: A society that prioritizes individual freedom may have weaker social safety nets, as the emphasis on personal responsibility may lead to reduced government support for vulnerable populations.\n",
      "2. **Increased Crime and Disorder**: The lack of collective security measures may lead to increased crime and disorder, as individuals may feel more empowered to pursue their interests without regard for the consequences.\n",
      "3. **Decreased Public Health and Safety**: The prioritization of individual freedom may lead to decreased public health and safety measures, as individuals may be more resistant to collective measures such as vaccination programs or environmental regulations.\n",
      "4. **Challenges to Governance**: A society that prioritizes individual freedom may face challenges in governance, as the emphasis on individual autonomy may lead to resistance to authority and decreased cooperation with government initiatives.\n",
      "5. **Social Fragmentation**: The prioritization of individual freedom may lead to social fragmentation, as individuals may become more isolated and less connected to their communities, leading to a breakdown in social cohesion.\n",
      "\n",
      "**Implications for Social Cohesion:**\n",
      "\n",
      "1. **Decreased Trust and Cooperation**: The emphasis on individual freedom may lead to decreased trust and cooperation among individuals, as they may become more focused on their own interests and less willing to work together for the common good.\n",
      "2. **Increased Conflict**: The lack of collective security measures may lead to increased conflict, as individuals may be more likely to pursue their interests through aggressive means.\n",
      "3. **Erosion of Community**: The prioritization of individual freedom may lead to the erosion of community, as individuals may become more disconnected from their surroundings and less invested in the well-being of others.\n",
      "\n",
      "In conclusion, prioritizing individual freedom over collective security can have significant philosophical, ethical, and practical implications for governance and social cohesion. While individual freedom is an important value, it must be balanced with the need for collective security and social cohesion to ensure a stable and prosperous society.\n",
      "\n",
      "# Response from competitor 4\n",
      "\n",
      "Prioritizing individual freedom over collective security can have significant philosophical, ethical, and practical implications for governance and social cohesion. Some of these implications include:\n",
      "\n",
      "Philosophical Implications:\n",
      "\n",
      "1. **Laissez-faire ideology**: Prioritizing individual freedom may lead to a reliance on laissez-faire economic policies, where the government minimizes its intervention in economic matters. This can result in significant income inequality, as those with more resources and power are able to accumulate wealth and influence.\n",
      "2. **Libertarianism vs. Social Justice**: The prioritization of individual freedom may lead to a conflict between libertarian ideologies that emphasize individual rights and social justice movements that aim to address systemic inequalities and promote collective well-being.\n",
      "\n",
      "Ethical Implications:\n",
      "\n",
      "1. **Security trade-offs**: By prioritizing individual freedom, societies may be willing to accept higher risks and uncertainties in pursuit of personal safety. This can lead to a morality dilemma where the greater good is sacrificed for individual interests.\n",
      "2. **Social inequality**: Prioritizing individual freedom can exacerbate social inequalities if those with more resources are better equipped to protect themselves from harm, while others may remain vulnerable.\n",
      "3. **Global responsibilities**: Individual societies may be less inclined to take global action on issues such as climate change or pandemics, prioritiz\n",
      "\n",
      "\n",
      "\n",
      "Now respond with the JSON with the ranked order of the competitors, nothing else. Do not include markdown formatting or code blocks.\n"
     ]
    }
   ],
   "source": [
    "print(judge)"
   ]
  },
  {
   "cell_type": "code",
   "execution_count": 25,
   "metadata": {},
   "outputs": [],
   "source": [
    "judge_messages = [{\"role\": \"user\", \"content\": judge}]"
   ]
  },
  {
   "cell_type": "code",
   "execution_count": 26,
   "metadata": {},
   "outputs": [
    {
     "name": "stdout",
     "output_type": "stream",
     "text": [
      "{\"results\": [\"2\", \"1\", \"3\", \"4\"]}\n"
     ]
    }
   ],
   "source": [
    "# Judgement time!\n",
    "\n",
    "openai = OpenAI(\n",
    "    api_key=openrouter_api_key,\n",
    "    base_url=\"https://openrouter.ai/api/v1\"\n",
    ")\n",
    "\n",
    "response = openai.chat.completions.create(\n",
    "    model=\"openai/o3-mini\",\n",
    "    messages=judge_messages,\n",
    ")\n",
    "results = response.choices[0].message.content\n",
    "print(results)\n"
   ]
  },
  {
   "cell_type": "code",
   "execution_count": 27,
   "metadata": {},
   "outputs": [
    {
     "name": "stdout",
     "output_type": "stream",
     "text": [
      "Rank 1: gemini-2.0-flash\n",
      "Rank 2: gpt-4o-mini\n",
      "Rank 3: llama-3.3-70b-versatile\n",
      "Rank 4: llama3.2\n"
     ]
    }
   ],
   "source": [
    "# OK let's turn this into results!\n",
    "\n",
    "results_dict = json.loads(results)\n",
    "ranks = results_dict[\"results\"]\n",
    "for index, result in enumerate(ranks):\n",
    "    competitor = competitors[int(result)-1]\n",
    "    print(f\"Rank {index+1}: {competitor}\")"
   ]
  },
  {
   "cell_type": "code",
   "execution_count": 28,
   "metadata": {},
   "outputs": [
    {
     "data": {
      "text/markdown": [
       "Here are three business ideas based on a platform business model that could benefit from an Agentic solution:\n",
       "\n",
       "1. **Local Services Marketplace for Freelancers**: Create a platform that connects local freelancers (such as graphic designers, photographers, and home repair specialists) with clients in their vicinity. An Agentic solution could facilitate personalized recommendations based on user preferences and past behavior, allowing clients to find the best freelance talent for their specific needs while also empowering freelancers to manage their profiles and client interactions more effectively.\n",
       "\n",
       "2. **Decentralized Food Supply Chain**: Develop a platform that connects local farmers directly with consumers and restaurants, eliminating intermediaries and ensuring fresher produce. An Agentic solution could provide real-time inventory management and demand forecasting tools, enabling both farmers and buyers to make data-driven decisions, optimize pricing, and minimize waste, while fostering a more sustainable food ecosystem.\n",
       "\n",
       "3. **Custom Travel Planning Network**: Launch a platform that connects travelers with expert local guides who can create personalized itineraries based on specific interests and preferences. An Agentic solution could leverage AI to analyze user data and preferences, automate itinerary suggestions, and facilitate easy communication between travelers and guides, ensuring a seamless and customized travel experience that enhances local tourism."
      ],
      "text/plain": [
       "<IPython.core.display.Markdown object>"
      ]
     },
     "metadata": {},
     "output_type": "display_data"
    },
    {
     "data": {
      "text/markdown": [
       "Okay, here are three platform business ideas that could strongly benefit from an agentic solution, each with a brief description:\n",
       "\n",
       "**1.  Personalized Skill Development Marketplace**\n",
       "\n",
       "*   **Description:** This platform connects learners with expert tutors and curated learning resources based on their individual learning styles, goals, and skill gaps.  An agentic solution would automatically analyze learner progress, suggest optimal learning paths, and proactively connect them with relevant mentors or resources, maximizing their learning outcomes.  It's a hyper-personalized approach to online education beyond static courses.\n",
       "\n",
       "**  Agentic Solution Benefit:** An agentic solution could automate the tasks of:\n",
       "   * matching learners with the most suitable tutors or resources (considering expertise, learning styles, availability, price)\n",
       "   * generating personalized learning paths\n",
       "   * tracking progress and identifying areas of improvement.\n",
       "   * providing personalized feedback to learners\n",
       "   * adjusting learning plans and resources based on learner performance\n",
       "\n",
       "**2.  Hyper-Localized Task & Errands Marketplace (with real-time negotiation)**\n",
       "\n",
       "*   **Description:**  This is a platform for connecting people who need small tasks or errands completed with trusted local individuals. Think \"TaskRabbit meets dynamic pricing and AI negotiation.\"  An agentic solution would allow users (both task posters and taskers) to set preferences and delegate negotiation to an AI that strives for mutually beneficial outcomes in real-time.\n",
       "\n",
       "**  Agentic Solution Benefit:** An agentic solution could automate the tasks of:\n",
       "   * suggesting optimal pricing for tasks based on complexity, urgency, and availability of taskers.\n",
       "   * automatically negotiating prices and deadlines on behalf of users, based on pre-set parameters.\n",
       "   * dynamically matching taskers with requesters based on proximity, skills, and availability, considering user preferences.\n",
       "   * managing communication and scheduling, freeing users from constant manual coordination.\n",
       "\n",
       "**3.  Dynamic Content Curation and Recommendation Platform for Niche Communities**\n",
       "\n",
       "*   **Description:** A platform designed to curate and recommend relevant content (articles, videos, podcasts, etc.) for highly specific niche communities (e.g., advanced bonsai techniques, obscure historical board games). An agentic solution would learn individual member preferences, proactively discover and evaluate new content sources, and personalize recommendations with minimal human intervention.\n",
       "\n",
       "**  Agentic Solution Benefit:** An agentic solution could automate the tasks of:\n",
       "   * discovering and evaluating new content sources relevant to the niche community.\n",
       "   * learning individual member preferences through implicit and explicit feedback.\n",
       "   * generating personalized content recommendations tailored to each member's interests.\n",
       "   * summarizing and categorizing content effectively for easy discoverability.\n",
       "   * identifying trending topics and emerging discussions within the community.\n",
       "   * detecting and filtering out low-quality or irrelevant content, ensuring a high-quality experience.\n"
      ],
      "text/plain": [
       "<IPython.core.display.Markdown object>"
      ]
     },
     "metadata": {},
     "output_type": "display_data"
    }
   ],
   "source": [
    "request = \"Please come up with 3 business ideas that based on a plattform business modell that might be ripe for an Agentic solution. \"\n",
    "request += \"For each idea, include a brief description (2–3 sentences).\"\n",
    "messages = [{\"role\": \"user\", \"content\": request}]\n",
    "\n",
    "openai = OpenAI(\n",
    "    api_key=openrouter_api_key,\n",
    "    base_url=\"https://openrouter.ai/api/v1\"\n",
    ")\n",
    "\n",
    "response = openai.chat.completions.create(\n",
    "    model=\"openai/gpt-4o-mini\",  # model=\"openai/gpt-4.1-nano\",\n",
    "    messages=messages,\n",
    ")\n",
    "answer = response.choices[0].message.content\n",
    "display(Markdown(answer))\n",
    "\n",
    "gemini = OpenAI(api_key=google_api_key, base_url=\"https://generativelanguage.googleapis.com/v1beta/openai/\")\n",
    "model_name = \"gemini-2.0-flash\"\n",
    "\n",
    "response = gemini.chat.completions.create(model=model_name, messages=messages)\n",
    "answer = response.choices[0].message.content\n",
    "display(Markdown(answer))\n",
    "\n",
    "\n"
   ]
  },
  {
   "cell_type": "markdown",
   "metadata": {},
   "source": [
    "<table style=\"margin: 0; text-align: left; width:100%\">\n",
    "    <tr>\n",
    "        <td style=\"width: 150px; height: 150px; vertical-align: middle;\">\n",
    "            <img src=\"../assets/exercise.png\" width=\"150\" height=\"150\" style=\"display: block;\" />\n",
    "        </td>\n",
    "        <td>\n",
    "            <h2 style=\"color:#ff7800;\">Exercise</h2>\n",
    "            <span style=\"color:#ff7800;\">Which pattern(s) did this use? Try updating this to add another Agentic design pattern.\n",
    "            </span>\n",
    "        </td>\n",
    "    </tr>\n",
    "</table>"
   ]
  },
  {
   "cell_type": "markdown",
   "metadata": {},
   "source": [
    "<table style=\"margin: 0; text-align: left; width:100%\">\n",
    "    <tr>\n",
    "        <td style=\"width: 150px; height: 150px; vertical-align: middle;\">\n",
    "            <img src=\"../assets/business.png\" width=\"150\" height=\"150\" style=\"display: block;\" />\n",
    "        </td>\n",
    "        <td>\n",
    "            <h2 style=\"color:#00bfff;\">Commercial implications</h2>\n",
    "            <span style=\"color:#00bfff;\">These kinds of patterns - to send a task to multiple models, and evaluate results,\n",
    "            and common where you need to improve the quality of your LLM response. This approach can be universally applied\n",
    "            to business projects where accuracy is critical.\n",
    "            </span>\n",
    "        </td>\n",
    "    </tr>\n",
    "</table>"
   ]
  }
 ],
 "metadata": {
  "kernelspec": {
   "display_name": ".venv",
   "language": "python",
   "name": "python3"
  },
  "language_info": {
   "codemirror_mode": {
    "name": "ipython",
    "version": 3
   },
   "file_extension": ".py",
   "mimetype": "text/x-python",
   "name": "python",
   "nbconvert_exporter": "python",
   "pygments_lexer": "ipython3",
   "version": "3.12.10"
  }
 },
 "nbformat": 4,
 "nbformat_minor": 2
}
